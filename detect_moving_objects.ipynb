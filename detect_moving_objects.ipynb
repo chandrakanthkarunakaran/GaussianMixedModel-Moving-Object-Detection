{
 "cells": [
  {
   "attachments": {},
   "cell_type": "markdown",
   "metadata": {},
   "source": [
    "# Detecting Moving Objects Using Gaussian Mixed Model\n",
    "\n",
    "\n",
    "In this work a typical cctv footage of cars passing through a highway is being used. \n",
    "Using Open-CV module we have built foreground detector using gaussian mixed model subtractor."
   ]
  },
  {
   "cell_type": "code",
   "execution_count": 1,
   "metadata": {},
   "outputs": [],
   "source": [
    "import cv2\n",
    "import numpy as np\n"
   ]
  },
  {
   "cell_type": "code",
   "execution_count": 4,
   "metadata": {},
   "outputs": [],
   "source": [
    "# Main Function\n",
    "\n",
    "\n",
    "def CaptureMovingObjects(fileName,outputFileName):\n",
    "\n",
    "    \"captures moving objects from video, and posts it in output video using opencv\"\n",
    "\n",
    "    # Gaussian Mixed Model\n",
    "\n",
    "    gmmModel = cv2.createBackgroundSubtractorMOG2(history=500, varThreshold=100, detectShadows=False)\n",
    "\n",
    "    # Capture input video\n",
    "\n",
    "    capturedVideo = cv2.VideoCapture(fileName)\n",
    "\n",
    "    # Initialize Output Video File\n",
    "\n",
    "    formatter = cv2.VideoWriter_fourcc(*'mp4v')\n",
    "\n",
    "    out = cv2.VideoWriter(outputFileName, formatter, 30, (int(capturedVideo.get(3)), int(capturedVideo.get(4))))\n",
    "\n",
    "    # Iteration Through Each Frame\n",
    "\n",
    "    while True:\n",
    "\n",
    "        ret, frame = capturedVideo.read()\n",
    "\n",
    "        # Break at the end\n",
    "\n",
    "        if not ret:            \n",
    "             \n",
    "            break\n",
    "            \n",
    "        # Applying Gaussian mixed model to derive foreground mask\n",
    "\n",
    "        foregroundMask = gmmModel.apply(frame)\n",
    "        \n",
    "        # Noise Cancellation\n",
    "        \n",
    "        kernel = cv2.getStructuringElement(cv2.MORPH_ELLIPSE, (3, 3))\n",
    "        foregroundMask = cv2.morphologyEx(foregroundMask, cv2.MORPH_OPEN, kernel)\n",
    "        \n",
    "        # Create a black background\n",
    "\n",
    "        background = np.zeros_like(frame)\n",
    "\n",
    "        # Create A White Foreground And Apply foreground mask\n",
    "\n",
    "        foregroundtemp=np.ones_like(frame)*255\n",
    "\n",
    "        foreground = cv2.bitwise_and(foregroundtemp, foregroundtemp, mask=foregroundMask)\n",
    "        \n",
    "        # Invert the foreground mask to create the background mask\n",
    "        backgroundMask = cv2.bitwise_not(foregroundMask)\n",
    "        \n",
    "        # Use the background mask to create the background image\n",
    "        background = cv2.bitwise_and(background, background, mask=backgroundMask)\n",
    "        \n",
    "        # Combine the foreground and background images\n",
    "        result = cv2.add(foreground, background) \n",
    "        \n",
    "        # Write the result to the output video file\n",
    "        out.write(result)\n",
    "\n",
    "\n",
    "    # Release the video capture and output writer objects\n",
    "    capturedVideo.release()\n",
    "    out.release()\n",
    "    cv2.destroyAllWindows()\n",
    "\n",
    "\n",
    "        "
   ]
  },
  {
   "cell_type": "code",
   "execution_count": 6,
   "metadata": {},
   "outputs": [],
   "source": [
    "# Pass the input video name and output video name with .mp4 extension\n",
    "\n",
    "\n",
    "inputFile=\"cars-1900.mp4\"\n",
    "\n",
    "outputFile=\"cars1900-op.mp4\"\n",
    "\n",
    "CaptureMovingObjects(inputFile,outputFile)"
   ]
  },
  {
   "cell_type": "code",
   "execution_count": null,
   "metadata": {},
   "outputs": [],
   "source": []
  }
 ],
 "metadata": {
  "kernelspec": {
   "display_name": "Python 3",
   "language": "python",
   "name": "python3"
  },
  "language_info": {
   "codemirror_mode": {
    "name": "ipython",
    "version": 3
   },
   "file_extension": ".py",
   "mimetype": "text/x-python",
   "name": "python",
   "nbconvert_exporter": "python",
   "pygments_lexer": "ipython3",
   "version": "3.10.6"
  },
  "orig_nbformat": 4
 },
 "nbformat": 4,
 "nbformat_minor": 2
}
